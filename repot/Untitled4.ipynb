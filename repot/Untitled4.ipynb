{
 "cells": [
  {
   "cell_type": "code",
   "execution_count": 1,
   "id": "3f492e8c",
   "metadata": {},
   "outputs": [],
   "source": [
    "from pylab import *\n",
    "import math\n",
    "import numpy as np\n",
    "import torch\n"
   ]
  },
  {
   "cell_type": "code",
   "execution_count": 2,
   "id": "2b504950",
   "metadata": {},
   "outputs": [
    {
     "name": "stdout",
     "output_type": "stream",
     "text": [
      "tensor([1.5700, 1.5857, 1.6014, 1.6171, 1.6328, 1.6485, 1.6642, 1.6799, 1.6956,\n",
      "        1.7113, 1.7270, 1.7427, 1.7584, 1.7741, 1.7898, 1.8055, 1.8212, 1.8369,\n",
      "        1.8526, 1.8683, 1.8840, 1.8997, 1.9154, 1.9311, 1.9468, 1.9625, 1.9782,\n",
      "        1.9939, 2.0096, 2.0253, 2.0410, 2.0567, 2.0724, 2.0881, 2.1038, 2.1195,\n",
      "        2.1352, 2.1509, 2.1666, 2.1823, 2.1980, 2.2137, 2.2294, 2.2451, 2.2608,\n",
      "        2.2765, 2.2922, 2.3079, 2.3236, 2.3393, 2.3550, 2.3707, 2.3864, 2.4021,\n",
      "        2.4178, 2.4335, 2.4492, 2.4649, 2.4806, 2.4963, 2.5120, 2.5277, 2.5434,\n",
      "        2.5591, 2.5748, 2.5905, 2.6062, 2.6219, 2.6376, 2.6533, 2.6690, 2.6847,\n",
      "        2.7004, 2.7161, 2.7318, 2.7475, 2.7632, 2.7789, 2.7946, 2.8103, 2.8260,\n",
      "        2.8417, 2.8574, 2.8731, 2.8888, 2.9045, 2.9202, 2.9359, 2.9516, 2.9673,\n",
      "        2.9830, 2.9987, 3.0144, 3.0301, 3.0458, 3.0615, 3.0772, 3.0929, 3.1086,\n",
      "        3.1243])\n"
     ]
    }
   ],
   "source": [
    "z=3.14-1.57\n",
    "taille=100\n",
    "z=z/taille\n",
    "x = 1.57*torch.ones(taille)\n",
    "for i in range(taille):\n",
    "    x[i]=x[i]+z*i\n",
    "print(x)"
   ]
  },
  {
   "cell_type": "code",
   "execution_count": 11,
   "id": "51770fb5",
   "metadata": {},
   "outputs": [],
   "source": [
    "trainset = torch.utils.data.DataLoader(x, batch_size=8, shuffle=True)\n",
    "testset = torch.utils.data.DataLoader(x, batch_size=8, shuffle=True)\n"
   ]
  },
  {
   "cell_type": "code",
   "execution_count": 12,
   "id": "e2aca79d",
   "metadata": {},
   "outputs": [
    {
     "name": "stdout",
     "output_type": "stream",
     "text": [
      "tensor([1.5700, 1.5857, 1.6014, 1.6171, 1.6328, 1.6485, 1.6642, 1.6799, 1.6956,\n",
      "        1.7113, 1.7270, 1.7427, 1.7584, 1.7741, 1.7898, 1.8055, 1.8212, 1.8369,\n",
      "        1.8526, 1.8683, 1.8840, 1.8997, 1.9154, 1.9311, 1.9468, 1.9625, 1.9782,\n",
      "        1.9939, 2.0096, 2.0253, 2.0410, 2.0567, 2.0724, 2.0881, 2.1038, 2.1195,\n",
      "        2.1352, 2.1509, 2.1666, 2.1823, 2.1980, 2.2137, 2.2294, 2.2451, 2.2608,\n",
      "        2.2765, 2.2922, 2.3079, 2.3236, 2.3393, 2.3550, 2.3707, 2.3864, 2.4021,\n",
      "        2.4178, 2.4335, 2.4492, 2.4649, 2.4806, 2.4963, 2.5120, 2.5277, 2.5434,\n",
      "        2.5591, 2.5748, 2.5905, 2.6062, 2.6219, 2.6376, 2.6533, 2.6690, 2.6847,\n",
      "        2.7004, 2.7161, 2.7318, 2.7475, 2.7632, 2.7789, 2.7946, 2.8103, 2.8260,\n",
      "        2.8417, 2.8574, 2.8731, 2.8888, 2.9045, 2.9202, 2.9359, 2.9516, 2.9673,\n",
      "        2.9830, 2.9987, 3.0144, 3.0301, 3.0458, 3.0615, 3.0772, 3.0929, 3.1086,\n",
      "        3.1243])\n",
      "tensor([1.0000, 0.9999, 0.9995, 0.9989, 0.9981, 0.9970, 0.9956, 0.9941, 0.9922,\n",
      "        0.9901, 0.9878, 0.9853, 0.9825, 0.9794, 0.9761, 0.9726, 0.9688, 0.9648,\n",
      "        0.9606, 0.9561, 0.9514, 0.9464, 0.9412, 0.9358, 0.9301, 0.9243, 0.9182,\n",
      "        0.9118, 0.9053, 0.8985, 0.8915, 0.8843, 0.8768, 0.8692, 0.8613, 0.8532,\n",
      "        0.8449, 0.8364, 0.8277, 0.8188, 0.8097, 0.8004, 0.7908, 0.7811, 0.7712,\n",
      "        0.7612, 0.7509, 0.7404, 0.7298, 0.7190, 0.7080, 0.6968, 0.6854, 0.6739,\n",
      "        0.6622, 0.6504, 0.6384, 0.6262, 0.6139, 0.6014, 0.5888, 0.5761, 0.5631,\n",
      "        0.5501, 0.5369, 0.5236, 0.5102, 0.4966, 0.4829, 0.4691, 0.4552, 0.4412,\n",
      "        0.4270, 0.4128, 0.3984, 0.3840, 0.3694, 0.3548, 0.3401, 0.3253, 0.3104,\n",
      "        0.2954, 0.2804, 0.2653, 0.2501, 0.2349, 0.2196, 0.2042, 0.1889, 0.1734,\n",
      "        0.1579, 0.1424, 0.1268, 0.1113, 0.0956, 0.0800, 0.0643, 0.0487, 0.0330,\n",
      "        0.0173])\n"
     ]
    }
   ],
   "source": [
    "print (x)\n",
    "y=torch.sin(x)\n",
    "print (y)"
   ]
  },
  {
   "cell_type": "code",
   "execution_count": 13,
   "id": "052daf48",
   "metadata": {},
   "outputs": [],
   "source": [
    "\n",
    "import torch.nn as nn\n",
    "import torch.nn.functional as F #the activation function \n",
    "import numpy as np"
   ]
  },
  {
   "cell_type": "code",
   "execution_count": 14,
   "id": "5028914b",
   "metadata": {},
   "outputs": [
    {
     "name": "stdout",
     "output_type": "stream",
     "text": [
      "Net(\n",
      "  (fc1): Linear(in_features=1, out_features=8, bias=True)\n",
      "  (fc2): Linear(in_features=8, out_features=8, bias=True)\n",
      "  (fc3): Linear(in_features=8, out_features=8, bias=True)\n",
      "  (fc4): Linear(in_features=8, out_features=8, bias=True)\n",
      "  (fc5): Linear(in_features=8, out_features=1, bias=True)\n",
      ")\n"
     ]
    }
   ],
   "source": [
    "class Net(nn.Module):\n",
    "    def __init__(self):\n",
    "        super().__init__()\n",
    "        self.fc1 = nn.Linear(1, 8) #fc = fully connected layer , 28*28 number of input\n",
    "        self.fc2 = nn.Linear(8, 8)    #in our case there are 28*28 images as inputs    #ze are going to use 64 neuron per layer network \n",
    "        self.fc3 = nn.Linear(8, 8)\n",
    "        self.fc4 = nn.Linear(8, 8)    #in our case there are 28*28 images as inputs    #ze are going to use 64 neuron per layer network \n",
    "        self.fc5 = nn.Linear(8, 1)#10 is the number of outputs we gonna classify as (in this case 10 : from 0 to 9)\n",
    "    #where the flow of data is going through\n",
    "    \n",
    "    def forward(self, x):\n",
    "        x = F.sigmoid(self.fc1(x)) #relu stands for rectified linear\n",
    "        x = F.sigmoid(self.fc2(x))\n",
    "        x = F.sigmoid(self.fc3(x))\n",
    "        x = F.sigmoid(self.fc4(x))\n",
    "        x = self.fc5(x)\n",
    "        \n",
    "        return torch.sigmoid(x) #don't forget the activation function \n",
    "net = Net()\n",
    "print(net)"
   ]
  },
  {
   "cell_type": "code",
   "execution_count": 15,
   "id": "a044ed60",
   "metadata": {},
   "outputs": [
    {
     "name": "stdout",
     "output_type": "stream",
     "text": [
      "tensor([[0.3121]])\n",
      "tensor([[0.5814]], grad_fn=<SigmoidBackward>)\n"
     ]
    }
   ],
   "source": [
    "X = torch.rand(1)\n",
    "X = X.view(-1,1)\n",
    "print (X)\n",
    "output = net(X)\n",
    "print(output)"
   ]
  },
  {
   "cell_type": "code",
   "execution_count": 16,
   "id": "17f6c466",
   "metadata": {},
   "outputs": [
    {
     "name": "stdout",
     "output_type": "stream",
     "text": [
      "tensor([[0.3070]])\n"
     ]
    }
   ],
   "source": [
    "print(torch.sin(X))"
   ]
  },
  {
   "cell_type": "code",
   "execution_count": 17,
   "id": "14f91784",
   "metadata": {},
   "outputs": [],
   "source": [
    "import torch.optim as optim\n",
    "\n",
    "loss_function = nn.CrossEntropyLoss()\n",
    "optimizer = optim.Adam(net.parameters(), lr=0.001)"
   ]
  },
  {
   "cell_type": "code",
   "execution_count": 18,
   "id": "7fa92ee4",
   "metadata": {},
   "outputs": [
    {
     "name": "stdout",
     "output_type": "stream",
     "text": [
      "tensor(5.2079e-05, grad_fn=<MseLossBackward>)\n"
     ]
    }
   ],
   "source": [
    "for epoch in range(800): # 3 full passes over the data\n",
    "    for data in trainset: \n",
    "        X = data  # X is the batch of features, y is the batch of targets.\n",
    "        output = net(X.view(-1,1))\n",
    "        target = torch.sin(X)\n",
    "        target = target.view(-1,1).float()\n",
    "        loss = F.mse_loss(output,target)\n",
    "        optimizer.zero_grad()\n",
    "        loss.backward()\n",
    "        optimizer.step() \n",
    "print(loss)"
   ]
  },
  {
   "cell_type": "code",
   "execution_count": 19,
   "id": "7ad245a0",
   "metadata": {},
   "outputs": [
    {
     "data": {
      "image/png": "[encoded data removed]",
      "text/plain": [
       "<Figure size 432x288 with 1 Axes>"
      ]
     },
     "metadata": {
      "needs_background": "light"
     },
     "output_type": "display_data"
    }
   ],
   "source": [
    "predictions = net(torch.Tensor(np.reshape(x, (-1,1))))\n",
    "plt.plot(x, y , x ,predictions.detach().numpy())\n",
    "plt.show()"
   ]
  },
  {
   "cell_type": "code",
   "execution_count": null,
   "id": "92701736",
   "metadata": {},
   "outputs": [],
   "source": []
  }
 ],
 "metadata": {
  "kernelspec": {
   "display_name": "Python 3",
   "language": "python",
   "name": "python3"
  },
  "language_info": {
   "codemirror_mode": {
    "name": "ipython",
    "version": 3
   },
   "file_extension": ".py",
   "mimetype": "text/x-python",
   "name": "python",
   "nbconvert_exporter": "python",
   "pygments_lexer": "ipython3",
   "version": "3.9.4"
  }
 },
 "nbformat": 4,
 "nbformat_minor": 5
}
